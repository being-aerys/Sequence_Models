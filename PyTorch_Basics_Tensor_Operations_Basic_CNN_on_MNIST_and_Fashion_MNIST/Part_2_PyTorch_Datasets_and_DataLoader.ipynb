{
 "cells": [
  {
   "cell_type": "code",
   "execution_count": 21,
   "metadata": {},
   "outputs": [],
   "source": [
    "#ETL Extract Transform Load\n",
    "import torch #contains methods and stuff like torch.tensor\n",
    "import torchvision #provides access top popular datasets for vision problems\n",
    "import torchvision.transforms as transforms_package #dataset lai tensor ma transform garna kaam lagxa\n",
    "\n",
    "# What is a PIL imaage?\n",
    "# Python Imaging Library (abbreviated as PIL) (in newer versions known as Pillow)\n",
    "# is a free library for the Python programming language that adds support for opening, manipulating, and saving\n",
    "# many different image file formats.\n",
    "\n",
    "\n",
    "# torchvision.transforms.ToTensor() converts a PIL Image or numpy.ndarray to tensor.\n",
    "# Converts a PIL Image or numpy.ndarray (H x W x C) in the range [0, 255] to a torch.FloatTensor of shape (C x H x W)\n",
    "\n",
    "#in the range [0.0, 1.0] if the PIL Image belongs to one of the modes (L, LA, P, I, F, RGB, YCbCr, RGBA, CMYK, 1)\n",
    "#or if the numpy.ndarray has dtype = np.uint8\n",
    "# In the other cases, tensors are returned without scaling.\n",
    "#Note that it is C x H x W and not C x W x H\n",
    "\n",
    "\n",
    "\n",
    "\n",
    "import matplotlib.pyplot as plt\n",
    "import matplotlib.pyplot as plt1\n",
    "torch.set_printoptions(linewidth = 120)\n",
    "#setprintoptions: The number of characters per line for the purpose of inserting line breaks (default 75).\n",
    "#Transforms are common image transformations. They can be chained together using Compose\n",
    "\n",
    "#PREPARE DATA : ETL\n",
    "#E Extract data from the source, say we wanna uswe the fashion-MNIST dataset ,we use the link provided in the class definition\n",
    "#T Transform the data into tensor form from a grayscale image provided by the dataset\n",
    "#L Load/ Put the transformed tensor into an object to make it easily accessible\n",
    "#For ETL PyTorch gives us 2 classes:  torch.utils.data.Dataset and torch.utils.data.DataLoader\n",
    "\n",
    "#Dataset is an abstract class for representing a dataset\n",
    "#If you remember from your tedious undergrad days, an abstrct class is the one whose function definitions are\n",
    "#not readily available and need to be implemented, you extend the abstract class and implement the methods\n",
    "\n",
    "#DataLoader wraps a dataset and provides access to the underlying data as an object\n",
    "\n",
    "\n",
    "#Fashin_MNIST dataset class simply extends the MNIST dataset class and overrides the url that points to the data\n"
   ]
  },
  {
   "cell_type": "code",
   "execution_count": 22,
   "metadata": {},
   "outputs": [],
   "source": [
    "#E and T achieved here\n",
    "#lets get the training data from fashion-MNIST\n",
    "#if u look at the implementation of fashinmnist class, it is just extending the mnist class\n",
    "\n",
    "#we get an instance of the MNist dataset class\n",
    "training_set = torchvision.datasets.FashionMNIST(root = \"datasets/fmnist\", train = True, download = True, transform = transforms_package.Compose([transforms_package.ToTensor()])) \n",
    "\n",
    "\n",
    "#vision le dataset matra dinxa aru kaam torch.utils.data.DataLoader class bata aako ho\n",
    "#composer le multiple composition of transformations garna dinxa, here we are performing just a single\n",
    "#transformation: into a tensor"
   ]
  },
  {
   "cell_type": "code",
   "execution_count": 23,
   "metadata": {},
   "outputs": [],
   "source": [
    "#L achieved here\n",
    "#lets look at the data loader now : liyeko data lai DataLoader class ko instance ma load garera object banaune matra to make it passable as an argument\n",
    "\n",
    "data_loader = torch.utils.data.DataLoader(training_set, batch_size = 10) #paayeko dataset ko o=instance lai load gareko\n",
    "#data loader gives us the capability to query on this data using diferent parameters like batch size and stuff\n",
    "#What you just wrote is a very strong thing in itself\n",
    "#bincount gives us what the no of repetitions is for each of the category in the data i.e.,\n",
    "#Count the frequency of each value in an array of non-negative ints.\n",
    "\n",
    "#make sure that all the bins have equal no of data samples, kunai ma thorai xa bhane just duplicate this category\n",
    "#until it equals the maximum, proved in a paper that it is always the right thing to do\n",
    "#for example if you have 1000 images of a dog and 900 images of a cat, you want to increase the number of images of the cat\n",
    "#as well, may be by using image augmentation\n"
   ]
  },
  {
   "cell_type": "code",
   "execution_count": 24,
   "metadata": {},
   "outputs": [
    {
     "name": "stdout",
     "output_type": "stream",
     "text": [
      "sample image shape is 1, 28, 28\n",
      "The category for this sample image in the training set is  tensor(9)\n"
     ]
    },
    {
     "data": {
      "image/png": "[encoded data removed]",
      "text/plain": [
       "<Figure size 432x288 with 1 Axes>"
      ]
     },
     "metadata": {
      "needs_background": "light"
     },
     "output_type": "display_data"
    }
   ],
   "source": [
    "# len(training_set)\n",
    "sample = next(iter(training_set))\n",
    "image , label = sample\n",
    "print(\"sample image shape is 1, 28, 28\")\n",
    "image.shape  #returns ([1, 28, 28]) \n",
    "\n",
    "#one channel : grayscale xa so depth of the frontview is 1\n",
    "\n",
    "#plt.imshow(image.squeeze()) #need to squeeze the data to 2 dimensions to be displayable on the 2D screen\n",
    "#however, imshow() maps the provided data into RGBA values \n",
    "\n",
    "\n",
    "#When you have a 2D array, such as data above, the values at each grid point is a float between 0 and 1. \n",
    "#maps between Blue = 0 and Red = 1 by default if no colormap specified as argument for imshow()\n",
    "#The gray colormap maps 0 to black and 1 to white and that is what we want, we wanna work on grayscale\n",
    "\n",
    "plt1.imshow(image.squeeze(),cmap = \"gray\") #removing the depth dimention to make displayable on the screen\n",
    "\n",
    "\n",
    "\n",
    "print(\"The category for this sample image in the training set is  \" +str(label))\n",
    "batch = next(iter(data_loader))\n",
    "images, labels = batch\n",
    "\n",
    "#If you print images.shape, you shall see [10, 1, 28, 28] : 10 images in this batch, 1 color depth, 28pixels high\n",
    "#28 pixels wide, so euta filter ma ma yo 4D tensor janxa input\n",
    "#if you print the shape of labels, you shall see [10] which is a rank 1 tensor with 10 values\n",
    "#note: rank 1 tensor is not the same as a rank 2 tensor with height 1"
   ]
  },
  {
   "cell_type": "code",
   "execution_count": 25,
   "metadata": {},
   "outputs": [
    {
     "name": "stdout",
     "output_type": "stream",
     "text": [
      "labels: tensor([9, 0, 0, 3, 0, 2, 7, 2, 5, 5])\n"
     ]
    },
    {
     "data": {
      "image/png": "[encoded data removed]",
      "text/plain": [
       "<Figure size 1080x1080 with 1 Axes>"
      ]
     },
     "metadata": {
      "needs_background": "light"
     },
     "output_type": "display_data"
    }
   ],
   "source": [
    "grid = torchvision.utils.make_grid(images, nrow = 10) #create a grid to display our tensor with 10 images in a row\n",
    "\n",
    "#nrow specifies how many elements should the grid display in 1 row\n",
    "#grid.shape\n",
    "#if you check grid.shape it is [ 3,32,302]  = 3, 28 with 2px padding on each side, 280 with 2 px padding \n",
    "import numpy as np\n",
    "plt.figure(figsize = (15,15))\n",
    "plt.imshow(np.transpose(grid, (1,2,0))) #permute the axes of grid to the new arrangement \n",
    "#grid's 1st axis i.e. the axis along the rows = vertical axis to come first\n",
    "#then the 2nd axis\n",
    "#grid ko 3rd axis = depth RGB combination ma dekhinxa as a pixel color intensity\n",
    "\n",
    "\n",
    "print('labels:', labels)"
   ]
  },
  {
   "cell_type": "code",
   "execution_count": null,
   "metadata": {},
   "outputs": [],
   "source": []
  }
 ],
 "metadata": {
  "kernelspec": {
   "display_name": "Python 3",
   "language": "python",
   "name": "python3"
  },
  "language_info": {
   "codemirror_mode": {
    "name": "ipython",
    "version": 3
   },
   "file_extension": ".py",
   "mimetype": "text/x-python",
   "name": "python",
   "nbconvert_exporter": "python",
   "pygments_lexer": "ipython3",
   "version": "3.6.5"
  }
 },
 "nbformat": 4,
 "nbformat_minor": 2
}
