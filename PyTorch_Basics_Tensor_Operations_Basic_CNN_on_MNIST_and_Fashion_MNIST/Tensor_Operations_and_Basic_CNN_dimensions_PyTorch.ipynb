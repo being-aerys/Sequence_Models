{
 "cells": [
  {
   "cell_type": "code",
   "execution_count": 3,
   "metadata": {},
   "outputs": [
    {
     "name": "stdout",
     "output_type": "stream",
     "text": [
      "tensor([1., 2., 3., 4., 5., 6., 7., 8., 9.])\n",
      "tensor([1, 2, 3, 4, 5, 6, 7, 8, 9], dtype=torch.int32)\n",
      "tensor([1, 2, 3, 4, 5, 6, 7, 8, 9], dtype=torch.int32)\n",
      "tensor([1, 2, 3, 4, 5, 6, 7, 8, 9], dtype=torch.int32)\n",
      "tensor([1., 2., 3., 4., 5., 6., 7., 8., 9.])\n",
      "tensor([1, 2, 3, 4, 5, 6, 7, 8, 9], dtype=torch.int32)\n",
      "tensor([0, 2, 3, 4, 5, 6, 7, 8, 9], dtype=torch.int32)\n",
      "tensor([0, 2, 3, 4, 5, 6, 7, 8, 9], dtype=torch.int32)\n"
     ]
    }
   ],
   "source": [
    "import torch\n",
    "import numpy as np\n",
    "#print(torch.__version__)\n",
    "torch.cuda.is_available()\n",
    "t = torch.tensor([1,2,3])\n",
    "dd = [[1,2,3],[4,5,6],[7,8,9]]\n",
    "type(dd)\n",
    "#print(dd)\n",
    "#convert to a tensor from a list\n",
    "dd_tensor = torch.tensor(dd)\n",
    "type(dd_tensor)\n",
    "#dd_tensor\n",
    "x = dd_tensor.reshape(1,9)\n",
    "#print(x)\n",
    "y = x.reshape(3,3)\n",
    "#print(y)\n",
    "t_integer = torch.tensor([1,2,3])\n",
    "t_float = torch.tensor([1.,2.,3.])\n",
    "#t_sum = t_integer + t_float -------------cant do this, same dtype required for an operation\n",
    "#print(t_sum)\n",
    "a = (np.array([1,2,3,4,5,6,7,8,9]))\n",
    "t1 = torch.Tensor(a) # constructor\n",
    "t2 = torch.tensor(a)#factory funciton\n",
    "t3 = torch.as_tensor(a)#factory funciton # accepts any list type, so if u wanna save memory use thisinstead of from_numpy\n",
    "t4 = torch.from_numpy(a)#factory funciton #only accepts numpy arrays\n",
    "print(t1)\n",
    "print(t2)\n",
    "print(t3)\n",
    "print(t4)\n",
    "\n",
    "#All three factory functions infer the data type from the input given\n",
    "#the constructor converts into the global data type\n",
    "a[0] = 0\n",
    "#another difference is on how memory is allocated to these options of tensor creation\n",
    "#first two create a new copy of the tensor while the later two just use a view of the numpy data\n",
    "print(t1)#copy data\n",
    "print(t2)#copy data\n",
    "print(t3)#share data\n",
    "print(t4)#share data\n",
    "\n",
    "#so zero memory operation between numpy and tensor using the 3rd and the 4th method, maintain the same pointer for both\n",
    "\n",
    "#Tensor Operation types \n",
    "#reshaping operations, element-wise operations, reduction operations, access operations"
   ]
  },
  {
   "cell_type": "code",
   "execution_count": 4,
   "metadata": {},
   "outputs": [
    {
     "name": "stdout",
     "output_type": "stream",
     "text": [
      "tensor([[ 1,  2,  3,  4,  5,  6,  7,  8,  9, 10, 11, 12]])\n",
      "tensor([ 1,  2,  3,  4,  5,  6,  7,  8,  9, 10, 11, 12])\n",
      "torch.Size([4, 3])\n",
      "tensor([[ 1,  2,  3,  4,  5,  6],\n",
      "        [ 7,  8,  9, 10, 11, 12]])\n"
     ]
    },
    {
     "data": {
      "text/plain": [
       "tensor([ 1,  2,  3,  4,  5,  6,  7,  8,  9, 10, 11, 12])"
      ]
     },
     "execution_count": 4,
     "metadata": {},
     "output_type": "execute_result"
    }
   ],
   "source": [
    "#squeeze function removes every dimension from the tensor whose length is 1\n",
    "import torch\n",
    "p1 = torch.tensor([[1,2,3],[4,5,6],[7,8,9],[10,11,12]])\n",
    "#p1.reshape(1,12) returns a reshaped value pf p1 but doesnt reshape p1 itself so make sure u override\n",
    "#squeeze also return a squeezed version without changing the original tensor\n",
    "p2 =p1.reshape(1,12)\n",
    "print(p2)\n",
    "\n",
    "#now count the number of square brackets after we squeeze\n",
    "p3 = p2.squeeze()\n",
    "print(p3) # converts into a one-dimensional array\n",
    "\n",
    "#flatten function basically merges reshape and squeeze that we performed above\n",
    "\n",
    "t = torch.tensor([[1,2,3],[4,5,6],[7,8,9],[10,11,12]])\n",
    "print(t.shape)\n",
    "print(t.reshape(2,6))\n",
    "def flatten_custom_func(tensor_arg):\n",
    "    tensor_arg = tensor_arg.reshape(1,-1) # basically (1,x) where x k hunuparxa bhanera pytorch le aafai calculate garxa\n",
    "    #depending on the first value (here 1) and the total number of elements\n",
    "    tensor_arg = tensor_arg.squeeze()\n",
    "    return tensor_arg\n",
    " \n",
    "flatten_custom_func(p1)\n"
   ]
  },
  {
   "cell_type": "code",
   "execution_count": 5,
   "metadata": {},
   "outputs": [
    {
     "name": "stdout",
     "output_type": "stream",
     "text": [
      "tensor([[[1, 1, 1, 1],\n",
      "         [1, 1, 1, 1],\n",
      "         [1, 1, 1, 1],\n",
      "         [1, 1, 1, 1]],\n",
      "\n",
      "        [[1, 1, 1, 1],\n",
      "         [1, 1, 1, 1],\n",
      "         [1, 1, 1, 1],\n",
      "         [1, 1, 1, 1]],\n",
      "\n",
      "        [[1, 1, 1, 1],\n",
      "         [1, 1, 1, 1],\n",
      "         [1, 1, 1, 1],\n",
      "         [1, 1, 1, 1]]])\n",
      "tensor([[1, 1, 1, 1],\n",
      "        [1, 1, 1, 1],\n",
      "        [1, 1, 1, 1],\n",
      "        [1, 1, 1, 1]])\n",
      "tensor([1, 1, 1, 1])\n",
      "tensor(1)\n"
     ]
    }
   ],
   "source": [
    "\n",
    "image_1 = torch.tensor([#1st dimension for the number of images in the batch, has 3 images as children\n",
    "#VVI: note that we are creating a single tensor for a batch of three images\n",
    "    [#1st image\n",
    "        # has 3 colors as children\n",
    "                         [#1st color: RED, has 4 pixel row values as children \n",
    "                         [1,1,1,1], #1st row, has 4 pixel column values as children\n",
    "                         [1,1,1,1,],\n",
    "                         [1,1,1,1],\n",
    "                         [1,1,1,1]\n",
    "                        ],\n",
    "                         [#GREEN\n",
    "                         [1,1,1,1],\n",
    "                         [1,1,1,1,],\n",
    "                         [1,1,1,1],\n",
    "                         [1,1,1,1]\n",
    "                        ],\n",
    "                         [#BLUE\n",
    "                         [1,1,1,1],\n",
    "                         [1,1,1,1,],\n",
    "                         [1,1,1,1],\n",
    "                         [1,1,1,1]\n",
    "                        ],\n",
    "                        ],\n",
    "    [#2nd image\n",
    "        #has 3 colors as children\n",
    "                         [#RED\n",
    "                         [2,2,2,2],\n",
    "                         [2,2,2,2,],\n",
    "                         [2,2,2,2],\n",
    "                         [2,2,2,2]\n",
    "                        ],\n",
    "                         [#GREEN\n",
    "                         [2,2,2,2],\n",
    "                         [2,2,2,2,],\n",
    "                         [2,2,2,2],\n",
    "                         [2,2,2,2]\n",
    "                        ],\n",
    "                         [#BLUE\n",
    "                         [2,2,2,2],\n",
    "                         [2,2,2,2,],\n",
    "                         [2,2,2,2],\n",
    "                         [2,2,2,2]\n",
    "                        ],\n",
    "                        ],\n",
    "    [#3rd image\n",
    "        #has 3 colors as children\n",
    "                         [#RED\n",
    "                         [3,3,3,3], \n",
    "                         [3,3,3,3,],\n",
    "                         [3,3,3,3],\n",
    "                         [3,3,3,3]\n",
    "                        ],\n",
    "                         [#GREEN\n",
    "                         [3,3,3,3], \n",
    "                         [3,3,3,3,],\n",
    "                         [3,3,3,3],\n",
    "                         [3,3,3,3]\n",
    "                        ],\n",
    "                         [#BLUE\n",
    "                         [3,3,3,3], \n",
    "                         [3,3,3,3,],\n",
    "                         [3,3,3,3],\n",
    "                         [3,3,3,3]\n",
    "                        ],\n",
    "                        ]\n",
    "                       ])\n",
    "print(image_1[0])#returns the first child of the root, i.e.,the first image as a whole\n",
    "print(image_1[0][0])#returns the first child of the first image\n",
    "print(image_1[0][0][0])#returns the first child of the first color\n",
    "print(image_1[0][0][0][0])#returns the first child/ column of the first row"
   ]
  },
  {
   "cell_type": "code",
   "execution_count": 6,
   "metadata": {},
   "outputs": [
    {
     "data": {
      "text/plain": [
       "tensor([1, 1, 1, 1, 1, 1, 1, 1, 1, 1, 1, 1, 1, 1, 1, 1, 1, 1, 1, 1, 1, 1, 1, 1,\n",
       "        1, 1, 1, 1, 1, 1, 1, 1, 1, 1, 1, 1, 1, 1, 1, 1, 1, 1, 1, 1, 1, 1, 1, 1,\n",
       "        2, 2, 2, 2, 2, 2, 2, 2, 2, 2, 2, 2, 2, 2, 2, 2, 2, 2, 2, 2, 2, 2, 2, 2,\n",
       "        2, 2, 2, 2, 2, 2, 2, 2, 2, 2, 2, 2, 2, 2, 2, 2, 2, 2, 2, 2, 2, 2, 2, 2,\n",
       "        3, 3, 3, 3, 3, 3, 3, 3, 3, 3, 3, 3, 3, 3, 3, 3, 3, 3, 3, 3, 3, 3, 3, 3,\n",
       "        3, 3, 3, 3, 3, 3, 3, 3, 3, 3, 3, 3, 3, 3, 3, 3, 3, 3, 3, 3, 3, 3, 3, 3])"
      ]
     },
     "execution_count": 6,
     "metadata": {},
     "output_type": "execute_result"
    }
   ],
   "source": [
    "image_1.reshape(1,-1)[0] #or t.flatten() or t.reshape(-1)"
   ]
  },
  {
   "cell_type": "code",
   "execution_count": 11,
   "metadata": {},
   "outputs": [
    {
     "name": "stdout",
     "output_type": "stream",
     "text": [
      "The flattened image is \n",
      "tensor([[1, 1, 1, 1, 1, 1, 1, 1, 1, 1, 1, 1, 1, 1, 1, 1, 1, 1, 1, 1, 1, 1, 1, 1,\n",
      "         1, 1, 1, 1, 1, 1, 1, 1, 1, 1, 1, 1, 1, 1, 1, 1, 1, 1, 1, 1, 1, 1, 1, 1],\n",
      "        [2, 2, 2, 2, 2, 2, 2, 2, 2, 2, 2, 2, 2, 2, 2, 2, 2, 2, 2, 2, 2, 2, 2, 2,\n",
      "         2, 2, 2, 2, 2, 2, 2, 2, 2, 2, 2, 2, 2, 2, 2, 2, 2, 2, 2, 2, 2, 2, 2, 2],\n",
      "        [3, 3, 3, 3, 3, 3, 3, 3, 3, 3, 3, 3, 3, 3, 3, 3, 3, 3, 3, 3, 3, 3, 3, 3,\n",
      "         3, 3, 3, 3, 3, 3, 3, 3, 3, 3, 3, 3, 3, 3, 3, 3, 3, 3, 3, 3, 3, 3, 3, 3]])\n"
     ]
    }
   ],
   "source": [
    "#However, we want to keep the outputs of the three images separately because we want individual\n",
    "#predictions for each image\n",
    "#do not flatten the different images together, because euta image as a whole send garn ho euta\n",
    "#CNN ko node/ filter ma instead of a single pixel from each image to one node\n",
    "\n",
    "image_2 = image_1.flatten(start_dim = 1)# makes a 2D array/ tensor where each row is one\n",
    "#flattened image constituting all the features of this image ( color channel, height, width of pixels)\n",
    "print(\"The flattened image is \")\n",
    "print(image_2)\n"
   ]
  },
  {
   "cell_type": "code",
   "execution_count": 12,
   "metadata": {},
   "outputs": [
    {
     "name": "stdout",
     "output_type": "stream",
     "text": [
      "tensor([[2, 2],\n",
      "        [3, 3]])\n"
     ]
    }
   ],
   "source": [
    "b1 = torch.tensor([1,1])\n",
    "b2 = torch.tensor([[1,1,],\n",
    "                  [2,2]])\n",
    "print(b1 + b2) #implicit broadcasting solved the problem\n",
    "#however, what if b1 was of 1 * 3 dimesntions ===> doesnt work\n",
    "b3 = torch.tensor([1,2,3])\n",
    "# print(b3 + b2)cant do this because\n",
    "#RuntimeError: The size of tensor a (3) must match the size of tensor b (2) at non-singleton dimension"
   ]
  },
  {
   "cell_type": "code",
   "execution_count": 13,
   "metadata": {},
   "outputs": [
    {
     "name": "stdout",
     "output_type": "stream",
     "text": [
      "tensor(3)\n",
      "tensor(143)\n"
     ]
    }
   ],
   "source": [
    "#element-wise operatoin = component-wise operation= point-wise operation\n",
    "#reduction operations on a tensor are sum prod numel mean std\n",
    "b2.sum()\n",
    "#can reduce the tensor to a specific dimension too\n",
    "to_reduce_tensor = torch.tensor([[1,2,3],\n",
    "                               [4,5,6],\n",
    "                               [7,8,9]])\n",
    "to_reduce_tensor.sum (1) #you mess up everytime you work on dimensions\n",
    "#you know the first axis i.e., axis/ dim = 0 is the row axis, tara ani tyo vertical line ho k axis\n",
    "#row ta mathi bata tala janxa k re ni kta\n",
    "#yesari samjhi, taking first axis means summing the elements of the first axis, damn sahi ho\n",
    "\n",
    "print(image_1.max())\n",
    "\n",
    "print(image_1.argmax())"
   ]
  },
  {
   "cell_type": "code",
   "execution_count": null,
   "metadata": {},
   "outputs": [],
   "source": []
  },
  {
   "cell_type": "code",
   "execution_count": null,
   "metadata": {},
   "outputs": [],
   "source": []
  }
 ],
 "metadata": {
  "kernelspec": {
   "display_name": "Python 3",
   "language": "python",
   "name": "python3"
  },
  "language_info": {
   "codemirror_mode": {
    "name": "ipython",
    "version": 3
   },
   "file_extension": ".py",
   "mimetype": "text/x-python",
   "name": "python",
   "nbconvert_exporter": "python",
   "pygments_lexer": "ipython3",
   "version": "3.6.5"
  }
 },
 "nbformat": 4,
 "nbformat_minor": 2
}
